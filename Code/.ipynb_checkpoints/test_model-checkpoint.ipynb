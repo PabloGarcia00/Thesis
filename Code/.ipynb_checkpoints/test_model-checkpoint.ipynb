{
 "cells": [
  {
   "cell_type": "code",
   "execution_count": 51,
   "metadata": {},
   "outputs": [],
   "source": [
    "from torch.utils.data import DataLoader \n",
    "from Data import _DataSet\n",
    "import pandas as pd \n",
    "import os \n",
    "from sklearn.metrics import PrecisionRecallDisplay, average_precision_score, precision_recall_curve, auc, roc_curve, RocCurveDisplay\n",
    "import matplotlib.pyplot as plt \n",
    "import numpy as np"
   ]
  },
  {
   "cell_type": "code",
   "execution_count": 37,
   "metadata": {},
   "outputs": [],
   "source": [
    "os.chdir(\"/home/llan/Desktop/WUR/thesis2\")\n"
   ]
  },
  {
   "cell_type": "code",
   "execution_count": 38,
   "metadata": {},
   "outputs": [],
   "source": [
    "\n",
    "exp_path = \"EXP/expression.tsv\"\n",
    "test_path = \"LABELS/LABEL_data_PN_1_1/Test_set.tsv\"\n",
    "tf_path = \"LABELS/TF_list.tsv\"\n",
    "label_path = \"LABELS/Labels.tsv\"\n",
    "reg_path = \"EXP/OriginalData/Regulations_in_ATRM.xlsx\"\n"
   ]
  },
  {
   "cell_type": "code",
   "execution_count": 39,
   "metadata": {},
   "outputs": [],
   "source": [
    "exp = pd.read_csv(exp_path, sep=\"\\t\", header=0, index_col=0)\n",
    "test_data = pd.read_csv(test_path, sep=\"\\t\", header=0, index_col=0)\n",
    "test_loader = DataLoader(test_data)\n",
    "test_set = pd.read_csv(test_path, sep=\"\\t\", header=0, index_col=0)\n",
    "tf_list = pd.read_table(tf_path, header=0)\n",
    "labels = pd.read_csv(label_path, sep=\"\\t\", header=0, index_col=0)\n",
    "reg = pd.read_excel(reg_path)"
   ]
  },
  {
   "cell_type": "code",
   "execution_count": 40,
   "metadata": {},
   "outputs": [],
   "source": [
    "test_data = _DataSet(test_path, exp)\n",
    "test_loader = DataLoader(test_data, batch_size=1)"
   ]
  },
  {
   "cell_type": "code",
   "execution_count": 41,
   "metadata": {},
   "outputs": [
    {
     "data": {
      "text/plain": [
       "'/home/llan/Desktop/WUR/thesis2'"
      ]
     },
     "execution_count": 41,
     "metadata": {},
     "output_type": "execute_result"
    }
   ],
   "source": [
    "os.getcwd()"
   ]
  },
  {
   "cell_type": "code",
   "execution_count": 42,
   "metadata": {},
   "outputs": [
    {
     "data": {
      "text/html": [
       "<div>\n",
       "<style scoped>\n",
       "    .dataframe tbody tr th:only-of-type {\n",
       "        vertical-align: middle;\n",
       "    }\n",
       "\n",
       "    .dataframe tbody tr th {\n",
       "        vertical-align: top;\n",
       "    }\n",
       "\n",
       "    .dataframe thead th {\n",
       "        text-align: right;\n",
       "    }\n",
       "</style>\n",
       "<table border=\"1\" class=\"dataframe\">\n",
       "  <thead>\n",
       "    <tr style=\"text-align: right;\">\n",
       "      <th></th>\n",
       "      <th>TF</th>\n",
       "      <th>Target</th>\n",
       "      <th>Label</th>\n",
       "      <th>weight</th>\n",
       "    </tr>\n",
       "  </thead>\n",
       "  <tbody>\n",
       "    <tr>\n",
       "      <th>312</th>\n",
       "      <td>27123</td>\n",
       "      <td>27125</td>\n",
       "      <td>1</td>\n",
       "      <td>0.073399</td>\n",
       "    </tr>\n",
       "    <tr>\n",
       "      <th>171</th>\n",
       "      <td>14022</td>\n",
       "      <td>17551</td>\n",
       "      <td>1</td>\n",
       "      <td>0.051418</td>\n",
       "    </tr>\n",
       "    <tr>\n",
       "      <th>136</th>\n",
       "      <td>12032</td>\n",
       "      <td>8925</td>\n",
       "      <td>1</td>\n",
       "      <td>0.045308</td>\n",
       "    </tr>\n",
       "    <tr>\n",
       "      <th>290</th>\n",
       "      <td>25166</td>\n",
       "      <td>7317</td>\n",
       "      <td>1</td>\n",
       "      <td>0.042621</td>\n",
       "    </tr>\n",
       "    <tr>\n",
       "      <th>138</th>\n",
       "      <td>12032</td>\n",
       "      <td>17781</td>\n",
       "      <td>1</td>\n",
       "      <td>0.041475</td>\n",
       "    </tr>\n",
       "    <tr>\n",
       "      <th>...</th>\n",
       "      <td>...</td>\n",
       "      <td>...</td>\n",
       "      <td>...</td>\n",
       "      <td>...</td>\n",
       "    </tr>\n",
       "    <tr>\n",
       "      <th>65</th>\n",
       "      <td>4799</td>\n",
       "      <td>18883</td>\n",
       "      <td>1</td>\n",
       "      <td>0.000038</td>\n",
       "    </tr>\n",
       "    <tr>\n",
       "      <th>154</th>\n",
       "      <td>12701</td>\n",
       "      <td>26349</td>\n",
       "      <td>1</td>\n",
       "      <td>0.000036</td>\n",
       "    </tr>\n",
       "    <tr>\n",
       "      <th>58</th>\n",
       "      <td>4601</td>\n",
       "      <td>7939</td>\n",
       "      <td>1</td>\n",
       "      <td>0.000027</td>\n",
       "    </tr>\n",
       "    <tr>\n",
       "      <th>280</th>\n",
       "      <td>22983</td>\n",
       "      <td>36759</td>\n",
       "      <td>1</td>\n",
       "      <td>0.000010</td>\n",
       "    </tr>\n",
       "    <tr>\n",
       "      <th>37</th>\n",
       "      <td>3443</td>\n",
       "      <td>21784</td>\n",
       "      <td>1</td>\n",
       "      <td>0.000003</td>\n",
       "    </tr>\n",
       "  </tbody>\n",
       "</table>\n",
       "<p>456 rows × 4 columns</p>\n",
       "</div>"
      ],
      "text/plain": [
       "        TF Target  Label    weight\n",
       "312  27123  27125      1  0.073399\n",
       "171  14022  17551      1  0.051418\n",
       "136  12032   8925      1  0.045308\n",
       "290  25166   7317      1  0.042621\n",
       "138  12032  17781      1  0.041475\n",
       "..     ...    ...    ...       ...\n",
       "65    4799  18883      1  0.000038\n",
       "154  12701  26349      1  0.000036\n",
       "58    4601   7939      1  0.000027\n",
       "280  22983  36759      1  0.000010\n",
       "37    3443  21784      1  0.000003\n",
       "\n",
       "[456 rows x 4 columns]"
      ]
     },
     "execution_count": 42,
     "metadata": {},
     "output_type": "execute_result"
    }
   ],
   "source": [
    "genie_path = \"media/PN_1_1/genie3weights.csv\"\n",
    "genie = pd.read_csv(genie_path, index_col=0)\n",
    "\n",
    "genetoi = {x:y for x,y in zip(exp.index.tolist(), range(exp.shape[0]))}\n",
    "genie.index = [genetoi[x] for x in genie.index.values]\n",
    "\n",
    "\n",
    "genie.columns = [genetoi[x] for x in genie.columns.values]\n",
    "genie_long = genie.reset_index()\n",
    "genie_long = genie_long.melt(id_vars=\"index\", var_name=\"Target\", value_name=\"weight\")\n",
    "\n",
    "genie_long = genie_long.rename(columns = {\"index\":\"TF\"})\n",
    "subset = pd.merge(test_set, genie_long, on=[\"TF\", \"Target\"], how=\"inner\")\n",
    "subset.loc[subset.Label == 1].sort_values(\"weight\", ascending=False)"
   ]
  },
  {
   "cell_type": "code",
   "execution_count": 43,
   "metadata": {},
   "outputs": [],
   "source": [
    "plt.rcParams[\"figure.figsize\"] = [6, 4]\n"
   ]
  },
  {
   "cell_type": "code",
   "execution_count": 44,
   "metadata": {},
   "outputs": [],
   "source": [
    "MEDIA = \"media/PN_1_1/\""
   ]
  },
  {
   "cell_type": "code",
   "execution_count": 45,
   "metadata": {},
   "outputs": [
    {
     "data": {
      "image/png": "[encoded data removed]",
      "text/plain": [
       "<Figure size 600x400 with 1 Axes>"
      ]
     },
     "metadata": {},
     "output_type": "display_data"
    }
   ],
   "source": [
    "\n",
    "RocCurveDisplay.from_predictions(subset.Label, subset.weight)\n",
    "plt.savefig(MEDIA + \"genie_roc.png\", dpi=300, bbox_inches=\"tight\")\n"
   ]
  },
  {
   "cell_type": "code",
   "execution_count": 46,
   "metadata": {},
   "outputs": [
    {
     "data": {
      "image/png": "[encoded data removed]",
      "text/plain": [
       "<Figure size 600x400 with 1 Axes>"
      ]
     },
     "metadata": {},
     "output_type": "display_data"
    }
   ],
   "source": [
    "PrecisionRecallDisplay.from_predictions(subset.Label, subset.weight)\n",
    "plt.savefig(MEDIA + \"genie_prc.png\", dpi=300, bbox_inches=\"tight\")"
   ]
  },
  {
   "cell_type": "code",
   "execution_count": 61,
   "metadata": {},
   "outputs": [],
   "source": [
    "subset[\"predicted\"]= subset.weight.apply(lambda x: 1/(1 + np.exp(-x))).apply(lambda x: 1 if x > 0.5 else 0)"
   ]
  },
  {
   "cell_type": "code",
   "execution_count": 64,
   "metadata": {},
   "outputs": [
    {
     "data": {
      "text/plain": [
       "predicted\n",
       "1    957\n",
       "0      5\n",
       "Name: count, dtype: int64"
      ]
     },
     "execution_count": 64,
     "metadata": {},
     "output_type": "execute_result"
    }
   ],
   "source": [
    "subset.predicted.value_counts()"
   ]
  },
  {
   "cell_type": "code",
   "execution_count": 47,
   "metadata": {},
   "outputs": [
    {
     "data": {
      "text/plain": [
       "weight\n",
       "False    959\n",
       "True       3\n",
       "Name: count, dtype: int64"
      ]
     },
     "execution_count": 47,
     "metadata": {},
     "output_type": "execute_result"
    }
   ],
   "source": [
    "(subset.weight > 0.05).value_counts()"
   ]
  },
  {
   "cell_type": "code",
   "execution_count": 192,
   "metadata": {},
   "outputs": [],
   "source": [
    "itogene = {y:x for x,y in genetoi.items()}"
   ]
  },
  {
   "cell_type": "code",
   "execution_count": 193,
   "metadata": {},
   "outputs": [
    {
     "data": {
      "text/plain": [
       "'AT4G25470'"
      ]
     },
     "execution_count": 193,
     "metadata": {},
     "output_type": "execute_result"
    }
   ],
   "source": [
    "itogene[27123]"
   ]
  },
  {
   "cell_type": "code",
   "execution_count": 48,
   "metadata": {},
   "outputs": [
    {
     "data": {
      "text/html": [
       "<div>\n",
       "<style scoped>\n",
       "    .dataframe tbody tr th:only-of-type {\n",
       "        vertical-align: middle;\n",
       "    }\n",
       "\n",
       "    .dataframe tbody tr th {\n",
       "        vertical-align: top;\n",
       "    }\n",
       "\n",
       "    .dataframe thead th {\n",
       "        text-align: right;\n",
       "    }\n",
       "</style>\n",
       "<table border=\"1\" class=\"dataframe\">\n",
       "  <thead>\n",
       "    <tr style=\"text-align: right;\">\n",
       "      <th></th>\n",
       "      <th>TF ID</th>\n",
       "      <th>Target ID</th>\n",
       "    </tr>\n",
       "  </thead>\n",
       "  <tbody>\n",
       "    <tr>\n",
       "      <th>968</th>\n",
       "      <td>27123</td>\n",
       "      <td>409</td>\n",
       "    </tr>\n",
       "    <tr>\n",
       "      <th>969</th>\n",
       "      <td>27123</td>\n",
       "      <td>2451</td>\n",
       "    </tr>\n",
       "    <tr>\n",
       "      <th>970</th>\n",
       "      <td>27123</td>\n",
       "      <td>4601</td>\n",
       "    </tr>\n",
       "    <tr>\n",
       "      <th>971</th>\n",
       "      <td>27123</td>\n",
       "      <td>5461</td>\n",
       "    </tr>\n",
       "    <tr>\n",
       "      <th>972</th>\n",
       "      <td>27123</td>\n",
       "      <td>5697</td>\n",
       "    </tr>\n",
       "    <tr>\n",
       "      <th>973</th>\n",
       "      <td>27123</td>\n",
       "      <td>9060</td>\n",
       "    </tr>\n",
       "    <tr>\n",
       "      <th>974</th>\n",
       "      <td>27123</td>\n",
       "      <td>14613</td>\n",
       "    </tr>\n",
       "    <tr>\n",
       "      <th>975</th>\n",
       "      <td>27123</td>\n",
       "      <td>15029</td>\n",
       "    </tr>\n",
       "    <tr>\n",
       "      <th>976</th>\n",
       "      <td>27123</td>\n",
       "      <td>21692</td>\n",
       "    </tr>\n",
       "    <tr>\n",
       "      <th>977</th>\n",
       "      <td>27123</td>\n",
       "      <td>27124</td>\n",
       "    </tr>\n",
       "    <tr>\n",
       "      <th>978</th>\n",
       "      <td>27123</td>\n",
       "      <td>27125</td>\n",
       "    </tr>\n",
       "    <tr>\n",
       "      <th>979</th>\n",
       "      <td>27123</td>\n",
       "      <td>31170</td>\n",
       "    </tr>\n",
       "    <tr>\n",
       "      <th>980</th>\n",
       "      <td>27123</td>\n",
       "      <td>31337</td>\n",
       "    </tr>\n",
       "    <tr>\n",
       "      <th>981</th>\n",
       "      <td>27123</td>\n",
       "      <td>35319</td>\n",
       "    </tr>\n",
       "  </tbody>\n",
       "</table>\n",
       "</div>"
      ],
      "text/plain": [
       "     TF ID  Target ID\n",
       "968  27123        409\n",
       "969  27123       2451\n",
       "970  27123       4601\n",
       "971  27123       5461\n",
       "972  27123       5697\n",
       "973  27123       9060\n",
       "974  27123      14613\n",
       "975  27123      15029\n",
       "976  27123      21692\n",
       "977  27123      27124\n",
       "978  27123      27125\n",
       "979  27123      31170\n",
       "980  27123      31337\n",
       "981  27123      35319"
      ]
     },
     "execution_count": 48,
     "metadata": {},
     "output_type": "execute_result"
    }
   ],
   "source": [
    "labels.loc[labels[\"TF ID\"] == 27123]"
   ]
  },
  {
   "cell_type": "code",
   "execution_count": 195,
   "metadata": {},
   "outputs": [
    {
     "data": {
      "text/html": [
       "<div>\n",
       "<style scoped>\n",
       "    .dataframe tbody tr th:only-of-type {\n",
       "        vertical-align: middle;\n",
       "    }\n",
       "\n",
       "    .dataframe tbody tr th {\n",
       "        vertical-align: top;\n",
       "    }\n",
       "\n",
       "    .dataframe thead th {\n",
       "        text-align: right;\n",
       "    }\n",
       "</style>\n",
       "<table border=\"1\" class=\"dataframe\">\n",
       "  <thead>\n",
       "    <tr style=\"text-align: right;\">\n",
       "      <th></th>\n",
       "      <th>TF</th>\n",
       "      <th>Target</th>\n",
       "      <th>weight</th>\n",
       "    </tr>\n",
       "  </thead>\n",
       "  <tbody>\n",
       "    <tr>\n",
       "      <th>68145</th>\n",
       "      <td>31750</td>\n",
       "      <td>29039</td>\n",
       "      <td>0.167542</td>\n",
       "    </tr>\n",
       "    <tr>\n",
       "      <th>107728</th>\n",
       "      <td>24802</td>\n",
       "      <td>26830</td>\n",
       "      <td>0.163841</td>\n",
       "    </tr>\n",
       "    <tr>\n",
       "      <th>107405</th>\n",
       "      <td>24802</td>\n",
       "      <td>34180</td>\n",
       "      <td>0.163696</td>\n",
       "    </tr>\n",
       "    <tr>\n",
       "      <th>133160</th>\n",
       "      <td>12931</td>\n",
       "      <td>8748</td>\n",
       "      <td>0.148433</td>\n",
       "    </tr>\n",
       "    <tr>\n",
       "      <th>123232</th>\n",
       "      <td>24802</td>\n",
       "      <td>31308</td>\n",
       "      <td>0.144246</td>\n",
       "    </tr>\n",
       "    <tr>\n",
       "      <th>...</th>\n",
       "      <td>...</td>\n",
       "      <td>...</td>\n",
       "      <td>...</td>\n",
       "    </tr>\n",
       "    <tr>\n",
       "      <th>306556</th>\n",
       "      <td>4020</td>\n",
       "      <td>23589</td>\n",
       "      <td>0.000000</td>\n",
       "    </tr>\n",
       "    <tr>\n",
       "      <th>3563</th>\n",
       "      <td>2371</td>\n",
       "      <td>2406</td>\n",
       "      <td>0.000000</td>\n",
       "    </tr>\n",
       "    <tr>\n",
       "      <th>226732</th>\n",
       "      <td>30204</td>\n",
       "      <td>26550</td>\n",
       "      <td>0.000000</td>\n",
       "    </tr>\n",
       "    <tr>\n",
       "      <th>226707</th>\n",
       "      <td>9334</td>\n",
       "      <td>26550</td>\n",
       "      <td>0.000000</td>\n",
       "    </tr>\n",
       "    <tr>\n",
       "      <th>220084</th>\n",
       "      <td>17501</td>\n",
       "      <td>12586</td>\n",
       "      <td>0.000000</td>\n",
       "    </tr>\n",
       "  </tbody>\n",
       "</table>\n",
       "<p>330752 rows × 3 columns</p>\n",
       "</div>"
      ],
      "text/plain": [
       "           TF Target    weight\n",
       "68145   31750  29039  0.167542\n",
       "107728  24802  26830  0.163841\n",
       "107405  24802  34180  0.163696\n",
       "133160  12931   8748  0.148433\n",
       "123232  24802  31308  0.144246\n",
       "...       ...    ...       ...\n",
       "306556   4020  23589  0.000000\n",
       "3563     2371   2406  0.000000\n",
       "226732  30204  26550  0.000000\n",
       "226707   9334  26550  0.000000\n",
       "220084  17501  12586  0.000000\n",
       "\n",
       "[330752 rows x 3 columns]"
      ]
     },
     "execution_count": 195,
     "metadata": {},
     "output_type": "execute_result"
    }
   ],
   "source": [
    "genie_long.sort_values(\"weight\", ascending=False)"
   ]
  },
  {
   "cell_type": "code",
   "execution_count": 28,
   "metadata": {},
   "outputs": [
    {
     "data": {
      "text/html": [
       "<div>\n",
       "<style scoped>\n",
       "    .dataframe tbody tr th:only-of-type {\n",
       "        vertical-align: middle;\n",
       "    }\n",
       "\n",
       "    .dataframe tbody tr th {\n",
       "        vertical-align: top;\n",
       "    }\n",
       "\n",
       "    .dataframe thead th {\n",
       "        text-align: right;\n",
       "    }\n",
       "</style>\n",
       "<table border=\"1\" class=\"dataframe\">\n",
       "  <thead>\n",
       "    <tr style=\"text-align: right;\">\n",
       "      <th></th>\n",
       "      <th>TF</th>\n",
       "      <th>Target</th>\n",
       "      <th>Label</th>\n",
       "      <th>weight</th>\n",
       "    </tr>\n",
       "  </thead>\n",
       "  <tbody>\n",
       "    <tr>\n",
       "      <th>0</th>\n",
       "      <td>5</td>\n",
       "      <td>3527</td>\n",
       "      <td>1</td>\n",
       "      <td>0.001066</td>\n",
       "    </tr>\n",
       "    <tr>\n",
       "      <th>1</th>\n",
       "      <td>5</td>\n",
       "      <td>36347</td>\n",
       "      <td>1</td>\n",
       "      <td>0.000625</td>\n",
       "    </tr>\n",
       "    <tr>\n",
       "      <th>2</th>\n",
       "      <td>5</td>\n",
       "      <td>456</td>\n",
       "      <td>1</td>\n",
       "      <td>0.001511</td>\n",
       "    </tr>\n",
       "    <tr>\n",
       "      <th>3</th>\n",
       "      <td>40</td>\n",
       "      <td>9360</td>\n",
       "      <td>1</td>\n",
       "      <td>0.003085</td>\n",
       "    </tr>\n",
       "    <tr>\n",
       "      <th>4</th>\n",
       "      <td>57</td>\n",
       "      <td>26018</td>\n",
       "      <td>1</td>\n",
       "      <td>0.003123</td>\n",
       "    </tr>\n",
       "    <tr>\n",
       "      <th>...</th>\n",
       "      <td>...</td>\n",
       "      <td>...</td>\n",
       "      <td>...</td>\n",
       "      <td>...</td>\n",
       "    </tr>\n",
       "    <tr>\n",
       "      <th>957</th>\n",
       "      <td>36747</td>\n",
       "      <td>24219</td>\n",
       "      <td>0</td>\n",
       "      <td>0.001218</td>\n",
       "    </tr>\n",
       "    <tr>\n",
       "      <th>958</th>\n",
       "      <td>36966</td>\n",
       "      <td>26007</td>\n",
       "      <td>0</td>\n",
       "      <td>0.001920</td>\n",
       "    </tr>\n",
       "    <tr>\n",
       "      <th>959</th>\n",
       "      <td>37012</td>\n",
       "      <td>9744</td>\n",
       "      <td>0</td>\n",
       "      <td>0.016441</td>\n",
       "    </tr>\n",
       "    <tr>\n",
       "      <th>960</th>\n",
       "      <td>37012</td>\n",
       "      <td>13150</td>\n",
       "      <td>0</td>\n",
       "      <td>0.000903</td>\n",
       "    </tr>\n",
       "    <tr>\n",
       "      <th>961</th>\n",
       "      <td>37026</td>\n",
       "      <td>18587</td>\n",
       "      <td>0</td>\n",
       "      <td>0.000931</td>\n",
       "    </tr>\n",
       "  </tbody>\n",
       "</table>\n",
       "<p>962 rows × 4 columns</p>\n",
       "</div>"
      ],
      "text/plain": [
       "        TF Target  Label    weight\n",
       "0        5   3527      1  0.001066\n",
       "1        5  36347      1  0.000625\n",
       "2        5    456      1  0.001511\n",
       "3       40   9360      1  0.003085\n",
       "4       57  26018      1  0.003123\n",
       "..     ...    ...    ...       ...\n",
       "957  36747  24219      0  0.001218\n",
       "958  36966  26007      0  0.001920\n",
       "959  37012   9744      0  0.016441\n",
       "960  37012  13150      0  0.000903\n",
       "961  37026  18587      0  0.000931\n",
       "\n",
       "[962 rows x 4 columns]"
      ]
     },
     "execution_count": 28,
     "metadata": {},
     "output_type": "execute_result"
    }
   ],
   "source": [
    "subset"
   ]
  },
  {
   "cell_type": "code",
   "execution_count": 29,
   "metadata": {},
   "outputs": [],
   "source": [
    "tab5 = {\"TF+500 genes\": [\"5m\", \"2m30s\", \"6m20s\", \"2h15m\", \"1m\", \"5m\", \"20m\", \"2h15m\", \"20s\", \"20s\"],\n",
    "        \"TF+1000 genes\": [\"12m\", \"6m\", \"30m\", \"20h40m\", \"2m\", \"5m\", \"50m\", \"3h50m\", \"32s\", \"32s\"]\n",
    "        }\n",
    "\n",
    "tab5 = pd.DataFrame.from_dict(tab5)"
   ]
  },
  {
   "cell_type": "code",
   "execution_count": 31,
   "metadata": {},
   "outputs": [],
   "source": [
    "tab5.index = [\"scGREAT\", \"GENELink\", \"GNE\", \"CNNC\", \"DeepSEM\", \"SCODE\", \"GRNBoost2\", \"GENIE3\", \"PCC\", \"MI\"]\n"
   ]
  },
  {
   "cell_type": "markdown",
   "metadata": {},
   "source": []
  },
  {
   "cell_type": "code",
   "execution_count": 35,
   "metadata": {},
   "outputs": [
    {
     "data": {
      "text/html": [
       "<div>\n",
       "<style scoped>\n",
       "    .dataframe tbody tr th:only-of-type {\n",
       "        vertical-align: middle;\n",
       "    }\n",
       "\n",
       "    .dataframe tbody tr th {\n",
       "        vertical-align: top;\n",
       "    }\n",
       "\n",
       "    .dataframe thead th {\n",
       "        text-align: right;\n",
       "    }\n",
       "</style>\n",
       "<table border=\"1\" class=\"dataframe\">\n",
       "  <thead>\n",
       "    <tr style=\"text-align: right;\">\n",
       "      <th></th>\n",
       "      <th>TF+500 genes</th>\n",
       "      <th>TF+1000 genes</th>\n",
       "    </tr>\n",
       "  </thead>\n",
       "  <tbody>\n",
       "    <tr>\n",
       "      <th>scGREAT</th>\n",
       "      <td>5m</td>\n",
       "      <td>12m</td>\n",
       "    </tr>\n",
       "    <tr>\n",
       "      <th>GENELink</th>\n",
       "      <td>2m30s</td>\n",
       "      <td>6m</td>\n",
       "    </tr>\n",
       "    <tr>\n",
       "      <th>GNE</th>\n",
       "      <td>6m20s</td>\n",
       "      <td>30m</td>\n",
       "    </tr>\n",
       "    <tr>\n",
       "      <th>CNNC</th>\n",
       "      <td>2h15m</td>\n",
       "      <td>20h40m</td>\n",
       "    </tr>\n",
       "    <tr>\n",
       "      <th>DeepSEM</th>\n",
       "      <td>1m</td>\n",
       "      <td>2m</td>\n",
       "    </tr>\n",
       "    <tr>\n",
       "      <th>SCODE</th>\n",
       "      <td>5m</td>\n",
       "      <td>5m</td>\n",
       "    </tr>\n",
       "    <tr>\n",
       "      <th>GRNBoost2</th>\n",
       "      <td>20m</td>\n",
       "      <td>50m</td>\n",
       "    </tr>\n",
       "    <tr>\n",
       "      <th>GENIE3</th>\n",
       "      <td>2h15m</td>\n",
       "      <td>3h50m</td>\n",
       "    </tr>\n",
       "    <tr>\n",
       "      <th>PCC</th>\n",
       "      <td>20s</td>\n",
       "      <td>32s</td>\n",
       "    </tr>\n",
       "    <tr>\n",
       "      <th>MI</th>\n",
       "      <td>20s</td>\n",
       "      <td>32s</td>\n",
       "    </tr>\n",
       "  </tbody>\n",
       "</table>\n",
       "</div>"
      ],
      "text/plain": [
       "          TF+500 genes TF+1000 genes\n",
       "scGREAT             5m           12m\n",
       "GENELink         2m30s            6m\n",
       "GNE              6m20s           30m\n",
       "CNNC             2h15m        20h40m\n",
       "DeepSEM             1m            2m\n",
       "SCODE               5m            5m\n",
       "GRNBoost2          20m           50m\n",
       "GENIE3           2h15m         3h50m\n",
       "PCC                20s           32s\n",
       "MI                 20s           32s"
      ]
     },
     "execution_count": 35,
     "metadata": {},
     "output_type": "execute_result"
    }
   ],
   "source": [
    "tab5"
   ]
  }
 ],
 "metadata": {
  "kernelspec": {
   "display_name": "Python 3",
   "language": "python",
   "name": "python3"
  },
  "language_info": {
   "codemirror_mode": {
    "name": "ipython",
    "version": 3
   },
   "file_extension": ".py",
   "mimetype": "text/x-python",
   "name": "python",
   "nbconvert_exporter": "python",
   "pygments_lexer": "ipython3",
   "version": "3.11.6"
  }
 },
 "nbformat": 4,
 "nbformat_minor": 2
}
