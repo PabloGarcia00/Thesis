{
 "cells": [
  {
   "cell_type": "markdown",
   "metadata": {},
   "source": [
    "## embeddings evaluation "
   ]
  },
  {
   "cell_type": "code",
   "execution_count": 23,
   "metadata": {},
   "outputs": [],
   "source": [
    "import glob \n",
    "from Plot import init_style, to_pgf\n",
    "import os \n",
    "import pandas as pd\n",
    "from sklearn.metrics import auc, accuracy_score, precision_recall_curve, roc_curve, classification_report\n",
    "import matplotlib.pyplot as plt"
   ]
  },
  {
   "cell_type": "code",
   "execution_count": 2,
   "metadata": {},
   "outputs": [],
   "source": [
    "os.chdir(\"/home/llan/Desktop/WUR/thesis2\")\n"
   ]
  },
  {
   "cell_type": "code",
   "execution_count": 16,
   "metadata": {},
   "outputs": [],
   "source": [
    "init_style()"
   ]
  },
  {
   "cell_type": "markdown",
   "metadata": {},
   "source": [
    "## optimal embeddings"
   ]
  },
  {
   "cell_type": "code",
   "execution_count": null,
   "metadata": {},
   "outputs": [],
   "source": [
    "files = glob.glob(\"media/shared_data/PN_1_1/**/*.tsv\", recursive=True)[:-1]"
   ]
  },
  {
   "cell_type": "code",
   "execution_count": 171,
   "metadata": {},
   "outputs": [],
   "source": [
    "model_type = [\"GO\", \"G2V\", \"EXP\"]"
   ]
  },
  {
   "cell_type": "code",
   "execution_count": 172,
   "metadata": {},
   "outputs": [],
   "source": [
    "dfs = [pd.read_csv(x, sep=\"\\t\", header=0, index_col=0) for x in files]"
   ]
  },
  {
   "cell_type": "code",
   "execution_count": 173,
   "metadata": {},
   "outputs": [
    {
     "data": {
      "text/html": [
       "<div>\n",
       "<style scoped>\n",
       "    .dataframe tbody tr th:only-of-type {\n",
       "        vertical-align: middle;\n",
       "    }\n",
       "\n",
       "    .dataframe tbody tr th {\n",
       "        vertical-align: top;\n",
       "    }\n",
       "\n",
       "    .dataframe thead th {\n",
       "        text-align: right;\n",
       "    }\n",
       "</style>\n",
       "<table border=\"1\" class=\"dataframe\">\n",
       "  <thead>\n",
       "    <tr style=\"text-align: right;\">\n",
       "      <th></th>\n",
       "      <th>TF</th>\n",
       "      <th>TG</th>\n",
       "      <th>pred</th>\n",
       "      <th>label</th>\n",
       "    </tr>\n",
       "  </thead>\n",
       "  <tbody>\n",
       "    <tr>\n",
       "      <th>0</th>\n",
       "      <td>22302</td>\n",
       "      <td>33844</td>\n",
       "      <td>0.891411</td>\n",
       "      <td>0.0</td>\n",
       "    </tr>\n",
       "    <tr>\n",
       "      <th>1</th>\n",
       "      <td>12154</td>\n",
       "      <td>26349</td>\n",
       "      <td>0.999433</td>\n",
       "      <td>1.0</td>\n",
       "    </tr>\n",
       "    <tr>\n",
       "      <th>2</th>\n",
       "      <td>29687</td>\n",
       "      <td>36164</td>\n",
       "      <td>0.261625</td>\n",
       "      <td>1.0</td>\n",
       "    </tr>\n",
       "    <tr>\n",
       "      <th>3</th>\n",
       "      <td>30927</td>\n",
       "      <td>152</td>\n",
       "      <td>0.833253</td>\n",
       "      <td>1.0</td>\n",
       "    </tr>\n",
       "    <tr>\n",
       "      <th>4</th>\n",
       "      <td>3921</td>\n",
       "      <td>9334</td>\n",
       "      <td>0.986324</td>\n",
       "      <td>1.0</td>\n",
       "    </tr>\n",
       "    <tr>\n",
       "      <th>...</th>\n",
       "      <td>...</td>\n",
       "      <td>...</td>\n",
       "      <td>...</td>\n",
       "      <td>...</td>\n",
       "    </tr>\n",
       "    <tr>\n",
       "      <th>838</th>\n",
       "      <td>15081</td>\n",
       "      <td>28770</td>\n",
       "      <td>0.248876</td>\n",
       "      <td>0.0</td>\n",
       "    </tr>\n",
       "    <tr>\n",
       "      <th>839</th>\n",
       "      <td>4083</td>\n",
       "      <td>19196</td>\n",
       "      <td>0.999239</td>\n",
       "      <td>1.0</td>\n",
       "    </tr>\n",
       "    <tr>\n",
       "      <th>840</th>\n",
       "      <td>31158</td>\n",
       "      <td>33239</td>\n",
       "      <td>0.010781</td>\n",
       "      <td>0.0</td>\n",
       "    </tr>\n",
       "    <tr>\n",
       "      <th>841</th>\n",
       "      <td>14014</td>\n",
       "      <td>30567</td>\n",
       "      <td>0.999953</td>\n",
       "      <td>1.0</td>\n",
       "    </tr>\n",
       "    <tr>\n",
       "      <th>842</th>\n",
       "      <td>22072</td>\n",
       "      <td>6966</td>\n",
       "      <td>0.425184</td>\n",
       "      <td>1.0</td>\n",
       "    </tr>\n",
       "  </tbody>\n",
       "</table>\n",
       "<p>843 rows × 4 columns</p>\n",
       "</div>"
      ],
      "text/plain": [
       "        TF     TG      pred  label\n",
       "0    22302  33844  0.891411    0.0\n",
       "1    12154  26349  0.999433    1.0\n",
       "2    29687  36164  0.261625    1.0\n",
       "3    30927    152  0.833253    1.0\n",
       "4     3921   9334  0.986324    1.0\n",
       "..     ...    ...       ...    ...\n",
       "838  15081  28770  0.248876    0.0\n",
       "839   4083  19196  0.999239    1.0\n",
       "840  31158  33239  0.010781    0.0\n",
       "841  14014  30567  0.999953    1.0\n",
       "842  22072   6966  0.425184    1.0\n",
       "\n",
       "[843 rows x 4 columns]"
      ]
     },
     "execution_count": 173,
     "metadata": {},
     "output_type": "execute_result"
    }
   ],
   "source": [
    "dfs[0]"
   ]
  },
  {
   "cell_type": "code",
   "execution_count": 175,
   "metadata": {},
   "outputs": [],
   "source": [
    "fig, (ax1, ax2) = plt.subplots(1, 2, figsize=(2* 3.54, 3.54))\n",
    "ax1.set_xlabel(\"FPR\")\n",
    "ax1.set_ylabel(\"TPR\")\n",
    "ax2.set_xlabel(\"Recall\")\n",
    "ax2.set_ylabel(\"Precision\")\n",
    "\n",
    "neg, pos = dfs[0].label.value_counts()\n",
    "prc_baseline = pos/(neg+pos)\n",
    "\n",
    "ax1.plot([0,1], [0,1], transform=ax1.transAxes, ls=\"-.\", color=\"red\")\n",
    "ax2.axhline(y=prc_baseline, ls =\"-.\", color=\"red\")\n",
    "\n",
    "\n",
    "for df, name in zip(dfs, model_type):\n",
    "    if name == \"GO\":\n",
    "        name = name + \" \"\n",
    "    precision, recall, _ = precision_recall_curve(df.label, df.pred)\n",
    "    fpr, tpr, _ = roc_curve(df.label, df.pred)\n",
    "    prc_auc= auc(recall, precision)\n",
    "    roc_auc = auc(fpr, tpr)\n",
    "    \n",
    "    ax1.step(fpr, tpr, label=f\"{name:<4} (AUC)={roc_auc:.2f}\", where=\"post\")\n",
    "    ax2.step(recall, precision, label=f\"{name:<4} (AUC)={prc_auc:.2f}\", where=\"post\")\n",
    "\n",
    "ax1.legend(loc=\"best\")\n",
    "ax2.legend(loc=\"best\")\n",
    "to_pgf(\"representations.pgf\")\n",
    "plt.close(fig)"
   ]
  },
  {
   "cell_type": "code",
   "execution_count": 176,
   "metadata": {},
   "outputs": [],
   "source": [
    "y_p, y_t = dfs[0].iloc[:,2:].to_numpy().T"
   ]
  },
  {
   "cell_type": "code",
   "execution_count": 177,
   "metadata": {},
   "outputs": [],
   "source": [
    "y_p = (y_p >= 0.5).astype(int)"
   ]
  },
  {
   "cell_type": "code",
   "execution_count": 185,
   "metadata": {},
   "outputs": [],
   "source": [
    "reports= []\n",
    "colums = None\n",
    "for df in dfs: \n",
    "    y_p, y_t = df.iloc[:, 2:].to_numpy().T\n",
    "    y_p = (y_p >= 0.5).astype(int)\n",
    "    report = classification_report(y_t, y_p, output_dict=True)\n",
    "    values = list(report[\"1.0\"].values())[:-1]\n",
    "    values += [report[\"accuracy\"]]\n",
    "    reports.append(values)\n",
    "    columns = list(report[\"1.0\"].keys())[:-1] + [\"accuracy\"]"
   ]
  },
  {
   "cell_type": "markdown",
   "metadata": {},
   "source": [
    "## combining embeddings "
   ]
  },
  {
   "cell_type": "code",
   "execution_count": 13,
   "metadata": {},
   "outputs": [],
   "source": [
    "paths = glob.glob(\"media/shared_data/PN_1_1/combined/linear_model/**/*.tsv\", recursive=True)\n",
    "concat = list(filter(lambda x: \"concat\" in x, paths))\n",
    "add = list(filter(lambda x: \"add\" in x, paths))"
   ]
  },
  {
   "cell_type": "code",
   "execution_count": null,
   "metadata": {},
   "outputs": [],
   "source": [
    "paths \n",
    "names = [\n",
    "    \"EXP_G2V_CONC\",\n",
    "    \"GO_G2V_CONC\",\n",
    "    \"GO_EXP_G2V_CONC\",  \n",
    "    \"GO_EXP_CONC\",\n",
    "    \"EXP_G2V_ADD\",\n",
    "    \"GO_G2V_ADD\",\n",
    "    \"GO_EXP_G2V_ADD\",  \n",
    "    \"GO_EXP_ADD\"\n",
    "]\n",
    "\n"
   ]
  },
  {
   "cell_type": "code",
   "execution_count": 19,
   "metadata": {},
   "outputs": [],
   "source": [
    "dfs = [pd.read_table(x, header=0, index_col=0) for x in paths]"
   ]
  },
  {
   "cell_type": "code",
   "execution_count": 35,
   "metadata": {},
   "outputs": [],
   "source": [
    "import matplotlib as mpl\n",
    "mpl.use(\"tkagg\")"
   ]
  },
  {
   "cell_type": "code",
   "execution_count": null,
   "metadata": {},
   "outputs": [
    {
     "data": {
      "image/png": "[encoded data removed]",
      "text/plain": [
       "<Figure size 708x354 with 2 Axes>"
      ]
     },
     "metadata": {},
     "output_type": "display_data"
    }
   ],
   "source": [
    "%matplotlib inline \n",
    "fig, (ax1, ax2) = plt.subplots(1, 2, figsize=(2* 3.54, 3.54))\n",
    "ax1.set_xlabel(\"FPR\")\n",
    "ax1.set_ylabel(\"TPR\")\n",
    "ax2.set_xlabel(\"Recall\")\n",
    "ax2.set_ylabel(\"Precision\")\n",
    "\n",
    "neg, pos = dfs[0].label.value_counts()\n",
    "prc_baseline = pos/(neg+pos)\n",
    "\n",
    "ax1.plot([0,1], [0,1], transform=ax1.transAxes, ls=\"-.\", color=\"red\")\n",
    "ax2.axhline(y=prc_baseline, ls =\"-.\", color=\"red\")\n",
    "prc_aucs = []\n",
    "roc_aucs = []\n",
    "\n",
    "for df, name in zip(dfs, names):\n",
    "    precision, recall, _ = precision_recall_curve(df.label, df.pred)\n",
    "    fpr, tpr, _ = roc_curve(df.label, df.pred)\n",
    "    prc_auc= prc_aucs.append(auc(recall, precision))\n",
    "    roc_auc = roc_aucs.append(auc(fpr, tpr))\n",
    "    ls = \"-\" if \"ADD\" in name else \"--\"\n",
    "    ax1.step(fpr, tpr, label=f\"{name:<4}\", where=\"post\", linestyle=ls)\n",
    "    ax2.step(recall, precision, label=f\"{name:<4}\", where=\"post\", linestyle=ls)\n",
    "\n",
    "ax2.legend(loc=\"lower center\")\n",
    "plt.show()"
   ]
  },
  {
   "cell_type": "code",
   "execution_count": 67,
   "metadata": {},
   "outputs": [],
   "source": [
    "comb_metrics = pd.DataFrame([roc_aucs, prc_aucs], columns=names, index=[\"roc_auc\", \"prc_auc\"]).T\n",
    "reports = []\n",
    "colums = None\n",
    "for df, name in zip(dfs, names): \n",
    "    y_p, y_t = df.iloc[:, 2:].to_numpy().T\n",
    "    y_p = (y_p >= 0.5).astype(int)\n",
    "    report = classification_report(y_t, y_p, output_dict=True)\n",
    "    values = list(report[\"1.0\"].values())[:-1]\n",
    "    values += [report[\"accuracy\"]]\n",
    "    reports.append(values)\n",
    "    columns = list(report[\"1.0\"].keys())[:-1] + [\"accuracy\"]"
   ]
  },
  {
   "cell_type": "code",
   "execution_count": 72,
   "metadata": {},
   "outputs": [],
   "source": [
    "reports = pd.DataFrame(reports, index=names, columns=columns)\n",
    "comb_metrics_join = comb_metrics.join(reports).sort_values(\"accuracy\", ascending=False)"
   ]
  },
  {
   "cell_type": "code",
   "execution_count": 75,
   "metadata": {},
   "outputs": [
    {
     "name": "stdout",
     "output_type": "stream",
     "text": [
      "\\begin{tabular}{lrrrrrr}\n",
      "\\toprule\n",
      " & roc_auc & prc_auc & precision & recall & f1-score & accuracy \\\\\n",
      "\\midrule\n",
      "GO_EXP_CONC & 0.975 & 0.974 & 0.917 & 0.930 & 0.923 & 0.926 \\\\\n",
      "GO_EXP_ADD & 0.976 & 0.974 & 0.900 & 0.943 & 0.921 & 0.923 \\\\\n",
      "GO_EXP_G2V_CONC & 0.974 & 0.973 & 0.899 & 0.928 & 0.913 & 0.916 \\\\\n",
      "GO_EXP_G2V_ADD & 0.976 & 0.974 & 0.883 & 0.943 & 0.912 & 0.913 \\\\\n",
      "GO_G2V_CONC & 0.959 & 0.963 & 0.899 & 0.903 & 0.901 & 0.905 \\\\\n",
      "GO_G2V_ADD & 0.958 & 0.961 & 0.874 & 0.913 & 0.893 & 0.896 \\\\\n",
      "EXP_G2V_ADD & 0.932 & 0.923 & 0.830 & 0.900 & 0.864 & 0.865 \\\\\n",
      "EXP_G2V_CONC & 0.933 & 0.917 & 0.825 & 0.891 & 0.856 & 0.858 \\\\\n",
      "\\bottomrule\n",
      "\\end{tabular}\n",
      "\n"
     ]
    }
   ],
   "source": [
    "print(comb_metrics_join.to_latex(float_format=\"{:0.3f}\".format))"
   ]
  },
  {
   "cell_type": "code",
   "execution_count": 1,
   "metadata": {},
   "outputs": [
    {
     "name": "stderr",
     "output_type": "stream",
     "text": [
      "/home/llan/miniconda3/envs/torch/lib/python3.11/site-packages/dask/dataframe/_pyarrow_compat.py:15: FutureWarning: Minimal version of pyarrow will soon be increased to 14.0.1. You are using 11.0.0. Please consider upgrading.\n",
      "  warnings.warn(\n"
     ]
    }
   ],
   "source": [
    "from Data import CombinedData\n",
    "from torch.utils.data import DataLoader\n",
    "import pandas as pd"
   ]
  },
  {
   "cell_type": "code",
   "execution_count": 2,
   "metadata": {},
   "outputs": [],
   "source": [
    "data_path = \"/home/llan/Desktop/WUR/thesis2/shared_data/PN_1_1/Train_set.tsv\"\n",
    "g2v_path = \"/home/llan/Desktop/WUR/thesis2/gene2vec_data/dataset/g2v_embeddings.tsv\"\n",
    "go_path = \"/home/llan/Desktop/WUR/thesis2/GO/GO_data.txt\"\n",
    "exp_path = \"/home/llan/Desktop/WUR/thesis2/EXP/EXP_data/expression.csv\"\n",
    "\n",
    "exp_data = pd.read_table(exp_path, header=0, index_col=0, sep=\"\\t\").to_numpy()"
   ]
  },
  {
   "cell_type": "code",
   "execution_count": 3,
   "metadata": {},
   "outputs": [],
   "source": [
    "comb = CombinedData(data_path, g2v_path, go_path, exp_data)"
   ]
  },
  {
   "cell_type": "code",
   "execution_count": 4,
   "metadata": {},
   "outputs": [],
   "source": [
    "comb_loader = DataLoader(comb)"
   ]
  },
  {
   "cell_type": "code",
   "execution_count": 5,
   "metadata": {},
   "outputs": [
    {
     "data": {
      "text/plain": [
       "7246"
      ]
     },
     "execution_count": 5,
     "metadata": {},
     "output_type": "execute_result"
    }
   ],
   "source": [
    "comb.n_go"
   ]
  },
  {
   "cell_type": "code",
   "execution_count": 6,
   "metadata": {},
   "outputs": [],
   "source": [
    "from Model import CombinedModel\n",
    "\n",
    "model = CombinedModel(100, 7246).to(\"cuda\")"
   ]
  },
  {
   "cell_type": "code",
   "execution_count": null,
   "metadata": {},
   "outputs": [
    {
     "name": "stdout",
     "output_type": "stream",
     "text": [
      "0 torch.Size([1]) torch.Size([1, 2, 100]) torch.Size([1, 2, 7246]) torch.Size([1, 2, 1343])\n",
      "tensor([[0.0002]], device='cuda:0', grad_fn=<SigmoidBackward0>)\n"
     ]
    }
   ],
   "source": [
    "for idx, (lab, g2v, go, exp) in enumerate(comb_loader):\n",
    "    print(idx, lab.shape, g2v.shape, go.shape, exp.shape)\n",
    "    prob = model(g2v, go, exp)\n",
    "    print(prob)\n",
    "    break\n",
    "    "
   ]
  },
  {
   "cell_type": "code",
   "execution_count": 25,
   "metadata": {},
   "outputs": [
    {
     "name": "stdout",
     "output_type": "stream",
     "text": [
      "../shared_data/PN_1_1/Train_set.tsv\n",
      "../shared_data/PN_1_1/Test_set.tsv\n",
      "../shared_data/PN_1_1/Val_set.tsv\n"
     ]
    }
   ],
   "source": [
    "paths = glob.glob(\"../shared_data/PN_1_1/*\")\n",
    "dfs = [] \n",
    "for idx, path in enumerate(paths):\n",
    "    print(path)\n",
    "    dfs.append(pd.read_table(path, header=0, index_col=0))\n",
    "    \n",
    "    \n"
   ]
  },
  {
   "cell_type": "code",
   "execution_count": 28,
   "metadata": {},
   "outputs": [
    {
     "name": "stdout",
     "output_type": "stream",
     "text": [
      "(1405, 3)\n",
      "Label\n",
      "1    722\n",
      "0    683\n",
      "Name: count, dtype: int64\n",
      "(843, 3)\n",
      "Label\n",
      "0    441\n",
      "1    402\n",
      "Name: count, dtype: int64\n",
      "(166, 3)\n",
      "Label\n",
      "1    83\n",
      "0    83\n",
      "Name: count, dtype: int64\n"
     ]
    }
   ],
   "source": [
    "for df in dfs:\n",
    "    print(df.shape)\n",
    "    print(df[\"Label\"].value_counts())"
   ]
  },
  {
   "cell_type": "code",
   "execution_count": 31,
   "metadata": {},
   "outputs": [
    {
     "data": {
      "text/plain": [
       "0.11814946619217082"
      ]
     },
     "execution_count": 31,
     "metadata": {},
     "output_type": "execute_result"
    }
   ],
   "source": [
    "166/1405"
   ]
  },
  {
   "cell_type": "code",
   "execution_count": null,
   "metadata": {},
   "outputs": [],
   "source": []
  }
 ],
 "metadata": {
  "kernelspec": {
   "display_name": "Python 3",
   "language": "python",
   "name": "python3"
  },
  "language_info": {
   "codemirror_mode": {
    "name": "ipython",
    "version": 3
   },
   "file_extension": ".py",
   "mimetype": "text/x-python",
   "name": "python",
   "nbconvert_exporter": "python",
   "pygments_lexer": "ipython3",
   "version": "3.11.6"
  }
 },
 "nbformat": 4,
 "nbformat_minor": 2
}
