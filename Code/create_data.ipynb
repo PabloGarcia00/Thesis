{
 "cells": [
  {
   "cell_type": "code",
   "execution_count": 1,
   "id": "7cef22dd-0837-4eb2-8d62-2b1ae136ef1d",
   "metadata": {},
   "outputs": [],
   "source": [
    "import pandas as pd\n",
    "import numpy as np \n",
    "import os \n",
    "import sys\n",
    "from itertools import chain"
   ]
  },
  {
   "cell_type": "code",
   "execution_count": 142,
   "id": "f77d7445-5d02-450e-878a-df45b93ed5c0",
   "metadata": {},
   "outputs": [],
   "source": [
    "sys.path.append(os.path.abspath(\"Code\"))"
   ]
  },
  {
   "cell_type": "code",
   "execution_count": 143,
   "id": "83e4caea-4a89-4258-ba4d-d280d137daa3",
   "metadata": {},
   "outputs": [],
   "source": [
    "os.chdir(\"/home/llan/Desktop/WUR/thesis2\")\n",
    "LABEL_DIR = \"shared_data/binary_labels/\"\n"
   ]
  },
  {
   "cell_type": "code",
   "execution_count": 1,
   "id": "be553b2a",
   "metadata": {},
   "outputs": [
    {
     "data": {
      "text/plain": [
       "0.015"
      ]
     },
     "execution_count": 1,
     "metadata": {},
     "output_type": "execute_result"
    }
   ],
   "source": [
    "6/400"
   ]
  },
  {
   "cell_type": "code",
   "execution_count": 2,
   "id": "91812839",
   "metadata": {},
   "outputs": [
    {
     "data": {
      "text/plain": [
       "300.0"
      ]
     },
     "execution_count": 2,
     "metadata": {},
     "output_type": "execute_result"
    }
   ],
   "source": [
    "20_000 * 0.015"
   ]
  },
  {
   "cell_type": "code",
   "execution_count": 3,
   "id": "5194fa6a",
   "metadata": {},
   "outputs": [
    {
     "data": {
      "text/plain": [
       "12.5"
      ]
     },
     "execution_count": 3,
     "metadata": {},
     "output_type": "execute_result"
    }
   ],
   "source": [
    "300/24"
   ]
  },
  {
   "cell_type": "code",
   "execution_count": 201,
   "id": "7d9e5672-db46-4a96-96e5-914e17c902c1",
   "metadata": {},
   "outputs": [],
   "source": [
    "label_data = LABEL_DIR + \"Labels.tsv\"\n",
    "tf_list = LABEL_DIR + \"TF_list.tsv\"\n",
    "tg_list = LABEL_DIR + \"TG_list.tsv\"\n",
    "\n",
    "label_data = pd.read_table(label_data, header=0, index_col=0)\n",
    "tf_list = pd.read_table(tf_list, header=0).idx.tolist()\n",
    "tg_list = pd.read_table(tg_list, header=0).idx.tolist()\n"
   ]
  },
  {
   "cell_type": "code",
   "execution_count": 10,
   "id": "19a58a14-275d-4ea1-b274-87184c97b29e",
   "metadata": {},
   "outputs": [],
   "source": [
    "from DataProcessor import DatasetProcessor"
   ]
  },
  {
   "cell_type": "code",
   "execution_count": 4,
   "id": "1faedd74",
   "metadata": {},
   "outputs": [],
   "source": [
    "import pickle \n",
    "with open(\"../media2/binary/optimization/tried_configs.txt\", \"rb\") as f:\n",
    "    a = pickle.load(f)"
   ]
  },
  {
   "cell_type": "markdown",
   "id": "bfd85fe7",
   "metadata": {},
   "source": [
    "### creata multilabel file "
   ]
  },
  {
   "cell_type": "code",
   "execution_count": 11,
   "id": "f9e937d0",
   "metadata": {},
   "outputs": [
    {
     "data": {
      "text/plain": [
       "'/home/llan/Desktop/WUR/thesis2'"
      ]
     },
     "execution_count": 11,
     "metadata": {},
     "output_type": "execute_result"
    }
   ],
   "source": [
    "os.getcwd()"
   ]
  },
  {
   "cell_type": "code",
   "execution_count": 13,
   "id": "c06684d7",
   "metadata": {},
   "outputs": [],
   "source": [
    "ath = pd.read_table(\"LABELS/Regulations_in_ATRM.tsv\", usecols=[\"TF index\", \"Target index\", \"Activate/Repress\"])"
   ]
  },
  {
   "cell_type": "code",
   "execution_count": 21,
   "id": "128ffc28",
   "metadata": {},
   "outputs": [],
   "source": [
    "ath = ath[[\"TF index\", \"Target index\", \"Activate/Repress\"]]\n",
    "ath.columns = [\"TF ID\", \"Target ID\", \"Activate/Repress\"]"
   ]
  },
  {
   "cell_type": "code",
   "execution_count": 26,
   "id": "5df2d3cc",
   "metadata": {},
   "outputs": [],
   "source": [
    "ath = ath.loc[ath[\"Activate/Repress\"] != \"D\"]"
   ]
  },
  {
   "cell_type": "code",
   "execution_count": 27,
   "id": "89e78ffd",
   "metadata": {},
   "outputs": [
    {
     "name": "stderr",
     "output_type": "stream",
     "text": [
      "/tmp/ipykernel_270252/1163911823.py:6: SettingWithCopyWarning: \n",
      "A value is trying to be set on a copy of a slice from a DataFrame.\n",
      "Try using .loc[row_indexer,col_indexer] = value instead\n",
      "\n",
      "See the caveats in the documentation: https://pandas.pydata.org/pandas-docs/stable/user_guide/indexing.html#returning-a-view-versus-a-copy\n",
      "  ath[\"Label\"] = ath[\"Activate/Repress\"].apply(regtoi)\n"
     ]
    }
   ],
   "source": [
    "def regtoi(x):\n",
    "    conversion = {\"A\": 2, \"R\": 1}\n",
    "    x = conversion[x]\n",
    "    return x\n",
    "\n",
    "ath[\"Label\"] = ath[\"Activate/Repress\"].apply(regtoi)\n"
   ]
  },
  {
   "cell_type": "code",
   "execution_count": 24,
   "id": "e75d2817",
   "metadata": {},
   "outputs": [],
   "source": [
    "ath.to_csv(\"shared_data/multiclass_labels/Labels.tsv\", sep=\"\\t\")"
   ]
  },
  {
   "cell_type": "code",
   "execution_count": 12,
   "id": "db6eacbe",
   "metadata": {},
   "outputs": [],
   "source": [
    "ath = pd.read_table(\"shared_data/multiclass_labels/Labels.tsv\", index_col=0)"
   ]
  },
  {
   "cell_type": "code",
   "execution_count": 21,
   "id": "70af911f",
   "metadata": {},
   "outputs": [],
   "source": [
    "intersect = ath[\"TF ID\"].isin(label_data[\"TF ID\"]) & ath[\"Target ID\"].isin(label_data[\"Target ID\"])\n",
    "ath = ath[intersect]"
   ]
  },
  {
   "cell_type": "markdown",
   "id": "6a8072dc-b752-4b67-917d-bf0aa359a384",
   "metadata": {},
   "source": [
    "## create data "
   ]
  },
  {
   "cell_type": "code",
   "execution_count": 202,
   "id": "481edea4-3678-48a7-9833-a021dcd74523",
   "metadata": {},
   "outputs": [],
   "source": [
    "bin_split = DatasetProcessor()\n",
    "bin_split.split_binary_dataset(label_data, tg_list)\n",
    "bin_split.to_tsv(\"shared_data/binary_labels/PN_1_1\")"
   ]
  },
  {
   "cell_type": "code",
   "execution_count": null,
   "id": "3b9ada07-cdc0-4cd8-8b69-8b58e20553f8",
   "metadata": {},
   "outputs": [],
   "source": [
    "bin_alt_split = DatasetProcessor()\n",
    "bin_alt_split.split_binary_no_overlap(label_data, tg_list)\n",
    "bin_alt_split.to_tsv(\"shared_data/binary_labels/TF_split\")"
   ]
  },
  {
   "cell_type": "code",
   "execution_count": 25,
   "id": "a4832f38-540e-44cf-86c8-1a0455dec3b8",
   "metadata": {},
   "outputs": [],
   "source": [
    "mlc_labels = pd.read_table(\"shared_data/multiclass_labels/Labels.tsv\", header=0, usecols=[\"TF ID\", \"Target ID\", \"Label\"])"
   ]
  },
  {
   "cell_type": "code",
   "execution_count": 27,
   "id": "c9333643-bf4c-4dc8-a53d-1d93a79d401d",
   "metadata": {},
   "outputs": [],
   "source": [
    "mlc_split = DatasetProcessor()\n",
    "mlc_split.split_multiclass_dataset(mlc_labels, tg_list)\n",
    "mlc_split.to_tsv(\"shared_data/multiclass_labels/PN_1_1\")"
   ]
  },
  {
   "cell_type": "code",
   "execution_count": 28,
   "id": "5b6a709d-3c7a-487d-abca-da88cc388ce1",
   "metadata": {},
   "outputs": [],
   "source": [
    "mlc_alt_split = DatasetProcessor()\n",
    "mlc_alt_split.split_multiclass_no_overlap(mlc_labels, tg_list)\n",
    "mlc_alt_split.to_tsv(\"shared_data/multiclass_labels/TF_split\")"
   ]
  },
  {
   "cell_type": "markdown",
   "id": "da1ea312-4606-4ad2-9cef-6fba8161786d",
   "metadata": {},
   "source": [
    "## GO "
   ]
  },
  {
   "cell_type": "code",
   "execution_count": 145,
   "id": "3fca3dcf",
   "metadata": {},
   "outputs": [
    {
     "data": {
      "text/html": [
       "<div>\n",
       "<style scoped>\n",
       "    .dataframe tbody tr th:only-of-type {\n",
       "        vertical-align: middle;\n",
       "    }\n",
       "\n",
       "    .dataframe tbody tr th {\n",
       "        vertical-align: top;\n",
       "    }\n",
       "\n",
       "    .dataframe thead th {\n",
       "        text-align: right;\n",
       "    }\n",
       "</style>\n",
       "<table border=\"1\" class=\"dataframe\">\n",
       "  <thead>\n",
       "    <tr style=\"text-align: right;\">\n",
       "      <th></th>\n",
       "      <th>TF ID</th>\n",
       "      <th>Target ID</th>\n",
       "    </tr>\n",
       "  </thead>\n",
       "  <tbody>\n",
       "    <tr>\n",
       "      <th>0</th>\n",
       "      <td>5</td>\n",
       "      <td>456</td>\n",
       "    </tr>\n",
       "    <tr>\n",
       "      <th>1</th>\n",
       "      <td>5</td>\n",
       "      <td>3527</td>\n",
       "    </tr>\n",
       "    <tr>\n",
       "      <th>2</th>\n",
       "      <td>5</td>\n",
       "      <td>4626</td>\n",
       "    </tr>\n",
       "    <tr>\n",
       "      <th>3</th>\n",
       "      <td>5</td>\n",
       "      <td>7756</td>\n",
       "    </tr>\n",
       "    <tr>\n",
       "      <th>4</th>\n",
       "      <td>5</td>\n",
       "      <td>12597</td>\n",
       "    </tr>\n",
       "    <tr>\n",
       "      <th>...</th>\n",
       "      <td>...</td>\n",
       "      <td>...</td>\n",
       "    </tr>\n",
       "    <tr>\n",
       "      <th>1417</th>\n",
       "      <td>36454</td>\n",
       "      <td>35760</td>\n",
       "    </tr>\n",
       "    <tr>\n",
       "      <th>1418</th>\n",
       "      <td>36459</td>\n",
       "      <td>7756</td>\n",
       "    </tr>\n",
       "    <tr>\n",
       "      <th>1420</th>\n",
       "      <td>36747</td>\n",
       "      <td>15381</td>\n",
       "    </tr>\n",
       "    <tr>\n",
       "      <th>1421</th>\n",
       "      <td>36966</td>\n",
       "      <td>8342</td>\n",
       "    </tr>\n",
       "    <tr>\n",
       "      <th>1422</th>\n",
       "      <td>36966</td>\n",
       "      <td>24802</td>\n",
       "    </tr>\n",
       "  </tbody>\n",
       "</table>\n",
       "<p>1229 rows × 2 columns</p>\n",
       "</div>"
      ],
      "text/plain": [
       "      TF ID  Target ID\n",
       "0         5        456\n",
       "1         5       3527\n",
       "2         5       4626\n",
       "3         5       7756\n",
       "4         5      12597\n",
       "...     ...        ...\n",
       "1417  36454      35760\n",
       "1418  36459       7756\n",
       "1420  36747      15381\n",
       "1421  36966       8342\n",
       "1422  36966      24802\n",
       "\n",
       "[1229 rows x 2 columns]"
      ]
     },
     "execution_count": 145,
     "metadata": {},
     "output_type": "execute_result"
    }
   ],
   "source": [
    "label_data"
   ]
  },
  {
   "cell_type": "markdown",
   "id": "e8d5b11a",
   "metadata": {},
   "source": [
    "#### label data without IEA entries"
   ]
  },
  {
   "cell_type": "code",
   "execution_count": 146,
   "id": "ae89d3e5",
   "metadata": {},
   "outputs": [],
   "source": [
    "wo_iea = pd.read_table(\"GO/go_wo_iea_n.txt\")\n",
    "wo_comp = pd.read_table(\"GO/go_wo_comp_n.txt\")"
   ]
  },
  {
   "cell_type": "code",
   "execution_count": 95,
   "id": "2923369f",
   "metadata": {},
   "outputs": [],
   "source": [
    "go_data = wo_iea.iloc[:, 0].apply(lambda x: list(\n",
    "            map(int, str(x).split()))).to_dict()"
   ]
  },
  {
   "cell_type": "code",
   "execution_count": 96,
   "id": "1cc41349",
   "metadata": {},
   "outputs": [],
   "source": [
    "from itertools import chain\n",
    "\n",
    "values = set(list(chain.from_iterable(list(go_data.values()))))\n",
    "to = range(len(values))\n",
    "\n",
    "conversion = {key:val for key, val in zip(values, to)}\n",
    "func = lambda x: conversion[x]\n",
    "go_converted = {}\n",
    "for key, val in go_data.items():\n",
    "    go_converted[key] = list(map(func, list(val)))"
   ]
  },
  {
   "cell_type": "code",
   "execution_count": 97,
   "id": "26ea413a",
   "metadata": {},
   "outputs": [
    {
     "data": {
      "text/plain": [
       "5488"
      ]
     },
     "execution_count": 97,
     "metadata": {},
     "output_type": "execute_result"
    }
   ],
   "source": [
    "max(list(chain.from_iterable(list(go_converted.values()))))"
   ]
  },
  {
   "cell_type": "code",
   "execution_count": 98,
   "id": "cfd5d10c",
   "metadata": {},
   "outputs": [],
   "source": [
    "with open(\"GO/go_wo_comp_n.txt\", \"w\") as f:\n",
    "    for key, val in go_converted.items():\n",
    "        val = \" \".join(list(map(str, val)))\n",
    "        line = f\"{key}\\t{val}\\n\"\n",
    "        f.write(line)"
   ]
  },
  {
   "cell_type": "code",
   "execution_count": 56,
   "id": "b5c23ca2",
   "metadata": {},
   "outputs": [
    {
     "data": {
      "text/plain": [
       "range(0, 6809)"
      ]
     },
     "execution_count": 56,
     "metadata": {},
     "output_type": "execute_result"
    }
   ],
   "source": [
    "to"
   ]
  },
  {
   "cell_type": "code",
   "execution_count": 148,
   "id": "fb0535c4",
   "metadata": {},
   "outputs": [
    {
     "data": {
      "text/html": [
       "<div>\n",
       "<style scoped>\n",
       "    .dataframe tbody tr th:only-of-type {\n",
       "        vertical-align: middle;\n",
       "    }\n",
       "\n",
       "    .dataframe tbody tr th {\n",
       "        vertical-align: top;\n",
       "    }\n",
       "\n",
       "    .dataframe thead th {\n",
       "        text-align: right;\n",
       "    }\n",
       "</style>\n",
       "<table border=\"1\" class=\"dataframe\">\n",
       "  <thead>\n",
       "    <tr style=\"text-align: right;\">\n",
       "      <th></th>\n",
       "      <th>1</th>\n",
       "      <th>4 7 10 11</th>\n",
       "    </tr>\n",
       "  </thead>\n",
       "  <tbody>\n",
       "    <tr>\n",
       "      <th>0</th>\n",
       "      <td>2</td>\n",
       "      <td>12 13 14 15 16 2 0</td>\n",
       "    </tr>\n",
       "    <tr>\n",
       "      <th>1</th>\n",
       "      <td>3</td>\n",
       "      <td>17 20 21 22 25 12 27 28 29 30 31 32 33 14 2 34 36</td>\n",
       "    </tr>\n",
       "    <tr>\n",
       "      <th>2</th>\n",
       "      <td>4</td>\n",
       "      <td>26 38 39 40 42 43 44 2 46</td>\n",
       "    </tr>\n",
       "    <tr>\n",
       "      <th>3</th>\n",
       "      <td>5</td>\n",
       "      <td>47 0 48 1 49 50 51 3 52</td>\n",
       "    </tr>\n",
       "    <tr>\n",
       "      <th>4</th>\n",
       "      <td>6</td>\n",
       "      <td>53 54 55</td>\n",
       "    </tr>\n",
       "    <tr>\n",
       "      <th>...</th>\n",
       "      <td>...</td>\n",
       "      <td>...</td>\n",
       "    </tr>\n",
       "    <tr>\n",
       "      <th>25379</th>\n",
       "      <td>37325</td>\n",
       "      <td>10</td>\n",
       "    </tr>\n",
       "    <tr>\n",
       "      <th>25380</th>\n",
       "      <td>37326</td>\n",
       "      <td>1136 10 3431</td>\n",
       "    </tr>\n",
       "    <tr>\n",
       "      <th>25381</th>\n",
       "      <td>37327</td>\n",
       "      <td>3431 1077 10</td>\n",
       "    </tr>\n",
       "    <tr>\n",
       "      <th>25382</th>\n",
       "      <td>37328</td>\n",
       "      <td>10 87</td>\n",
       "    </tr>\n",
       "    <tr>\n",
       "      <th>25383</th>\n",
       "      <td>37329</td>\n",
       "      <td>87 10</td>\n",
       "    </tr>\n",
       "  </tbody>\n",
       "</table>\n",
       "<p>25384 rows × 2 columns</p>\n",
       "</div>"
      ],
      "text/plain": [
       "           1                                          4 7 10 11\n",
       "0          2                                 12 13 14 15 16 2 0\n",
       "1          3  17 20 21 22 25 12 27 28 29 30 31 32 33 14 2 34 36\n",
       "2          4                          26 38 39 40 42 43 44 2 46\n",
       "3          5                            47 0 48 1 49 50 51 3 52\n",
       "4          6                                           53 54 55\n",
       "...      ...                                                ...\n",
       "25379  37325                                                 10\n",
       "25380  37326                                       1136 10 3431\n",
       "25381  37327                                       3431 1077 10\n",
       "25382  37328                                              10 87\n",
       "25383  37329                                              87 10\n",
       "\n",
       "[25384 rows x 2 columns]"
      ]
     },
     "execution_count": 148,
     "metadata": {},
     "output_type": "execute_result"
    }
   ],
   "source": [
    "wo_comp"
   ]
  },
  {
   "cell_type": "code",
   "execution_count": 149,
   "id": "44e5097d",
   "metadata": {},
   "outputs": [],
   "source": [
    "iea_mask = (label_data[\"TF ID\"].isin(wo_iea.iloc[:,0]) & label_data[\"Target ID\"].isin(wo_iea.iloc[:, 0]))"
   ]
  },
  {
   "cell_type": "code",
   "execution_count": 150,
   "id": "b8b9da0e",
   "metadata": {},
   "outputs": [
    {
     "data": {
      "text/plain": [
       "True    1229\n",
       "Name: count, dtype: int64"
      ]
     },
     "execution_count": 150,
     "metadata": {},
     "output_type": "execute_result"
    }
   ],
   "source": [
    "iea_mask.value_counts()"
   ]
  },
  {
   "cell_type": "code",
   "execution_count": 151,
   "id": "45989924",
   "metadata": {},
   "outputs": [],
   "source": [
    "bin_comp_split = DatasetProcessor()\n",
    "bin_comp_split.split_binary_dataset(label_data, tg_list)\n",
    "bin_comp_split.to_tsv(\"shared_data/GO/PN_1_1\")"
   ]
  },
  {
   "cell_type": "markdown",
   "id": "6d717d13",
   "metadata": {},
   "source": [
    "#### label data without computational entries"
   ]
  },
  {
   "cell_type": "code",
   "execution_count": 153,
   "id": "8160575b",
   "metadata": {},
   "outputs": [],
   "source": [
    "comp_mask = (label_data[\"TF ID\"].isin(wo_comp.iloc[:, 0]) & label_data[\"Target ID\"].isin(wo_comp.iloc[:,0]))"
   ]
  },
  {
   "cell_type": "code",
   "execution_count": 154,
   "id": "05b51104",
   "metadata": {},
   "outputs": [],
   "source": [
    "label_data = label_data[comp_mask]"
   ]
  },
  {
   "cell_type": "code",
   "execution_count": 155,
   "id": "c917a8db",
   "metadata": {},
   "outputs": [
    {
     "data": {
      "text/html": [
       "<div>\n",
       "<style scoped>\n",
       "    .dataframe tbody tr th:only-of-type {\n",
       "        vertical-align: middle;\n",
       "    }\n",
       "\n",
       "    .dataframe tbody tr th {\n",
       "        vertical-align: top;\n",
       "    }\n",
       "\n",
       "    .dataframe thead th {\n",
       "        text-align: right;\n",
       "    }\n",
       "</style>\n",
       "<table border=\"1\" class=\"dataframe\">\n",
       "  <thead>\n",
       "    <tr style=\"text-align: right;\">\n",
       "      <th></th>\n",
       "      <th>TF ID</th>\n",
       "      <th>Target ID</th>\n",
       "    </tr>\n",
       "  </thead>\n",
       "  <tbody>\n",
       "    <tr>\n",
       "      <th>0</th>\n",
       "      <td>5</td>\n",
       "      <td>456</td>\n",
       "    </tr>\n",
       "    <tr>\n",
       "      <th>1</th>\n",
       "      <td>5</td>\n",
       "      <td>3527</td>\n",
       "    </tr>\n",
       "    <tr>\n",
       "      <th>2</th>\n",
       "      <td>5</td>\n",
       "      <td>4626</td>\n",
       "    </tr>\n",
       "    <tr>\n",
       "      <th>3</th>\n",
       "      <td>5</td>\n",
       "      <td>7756</td>\n",
       "    </tr>\n",
       "    <tr>\n",
       "      <th>4</th>\n",
       "      <td>5</td>\n",
       "      <td>12597</td>\n",
       "    </tr>\n",
       "    <tr>\n",
       "      <th>...</th>\n",
       "      <td>...</td>\n",
       "      <td>...</td>\n",
       "    </tr>\n",
       "    <tr>\n",
       "      <th>1417</th>\n",
       "      <td>36454</td>\n",
       "      <td>35760</td>\n",
       "    </tr>\n",
       "    <tr>\n",
       "      <th>1418</th>\n",
       "      <td>36459</td>\n",
       "      <td>7756</td>\n",
       "    </tr>\n",
       "    <tr>\n",
       "      <th>1420</th>\n",
       "      <td>36747</td>\n",
       "      <td>15381</td>\n",
       "    </tr>\n",
       "    <tr>\n",
       "      <th>1421</th>\n",
       "      <td>36966</td>\n",
       "      <td>8342</td>\n",
       "    </tr>\n",
       "    <tr>\n",
       "      <th>1422</th>\n",
       "      <td>36966</td>\n",
       "      <td>24802</td>\n",
       "    </tr>\n",
       "  </tbody>\n",
       "</table>\n",
       "<p>1217 rows × 2 columns</p>\n",
       "</div>"
      ],
      "text/plain": [
       "      TF ID  Target ID\n",
       "0         5        456\n",
       "1         5       3527\n",
       "2         5       4626\n",
       "3         5       7756\n",
       "4         5      12597\n",
       "...     ...        ...\n",
       "1417  36454      35760\n",
       "1418  36459       7756\n",
       "1420  36747      15381\n",
       "1421  36966       8342\n",
       "1422  36966      24802\n",
       "\n",
       "[1217 rows x 2 columns]"
      ]
     },
     "execution_count": 155,
     "metadata": {},
     "output_type": "execute_result"
    }
   ],
   "source": [
    "label_data"
   ]
  },
  {
   "cell_type": "code",
   "execution_count": 156,
   "id": "118e05b5",
   "metadata": {},
   "outputs": [],
   "source": [
    "tg_list = pd.Series(tg_list)[pd.Series(tg_list).isin(wo_comp.iloc[:,0])].tolist()"
   ]
  },
  {
   "cell_type": "code",
   "execution_count": 161,
   "id": "ee96ca82",
   "metadata": {},
   "outputs": [],
   "source": [
    "bin_comp_split = DatasetProcessor()\n",
    "bin_comp_split.split_binary_dataset(label_data, tg_list)\n",
    "bin_comp_split.to_tsv(\"shared_data/GO/without_comp_go_entries\")"
   ]
  },
  {
   "cell_type": "code",
   "execution_count": 159,
   "id": "0ccc8480",
   "metadata": {},
   "outputs": [
    {
     "data": {
      "text/plain": [
       "False"
      ]
     },
     "execution_count": 159,
     "metadata": {},
     "output_type": "execute_result"
    }
   ],
   "source": [
    "20 in label_data[\"TF ID\"].values"
   ]
  },
  {
   "cell_type": "code",
   "execution_count": 160,
   "id": "b7c6313a",
   "metadata": {},
   "outputs": [
    {
     "data": {
      "text/plain": [
       "False"
      ]
     },
     "execution_count": 160,
     "metadata": {},
     "output_type": "execute_result"
    }
   ],
   "source": [
    "20 in tg_list"
   ]
  },
  {
   "cell_type": "code",
   "execution_count": 192,
   "id": "973311ae",
   "metadata": {},
   "outputs": [],
   "source": [
    "train = pd.DataFrame(bin_comp_split.test_set)"
   ]
  },
  {
   "cell_type": "code",
   "execution_count": 193,
   "id": "94938ba2",
   "metadata": {},
   "outputs": [
    {
     "data": {
      "text/html": [
       "<div>\n",
       "<style scoped>\n",
       "    .dataframe tbody tr th:only-of-type {\n",
       "        vertical-align: middle;\n",
       "    }\n",
       "\n",
       "    .dataframe tbody tr th {\n",
       "        vertical-align: top;\n",
       "    }\n",
       "\n",
       "    .dataframe thead th {\n",
       "        text-align: right;\n",
       "    }\n",
       "</style>\n",
       "<table border=\"1\" class=\"dataframe\">\n",
       "  <thead>\n",
       "    <tr style=\"text-align: right;\">\n",
       "      <th></th>\n",
       "      <th>TF ID</th>\n",
       "      <th>Target ID</th>\n",
       "    </tr>\n",
       "  </thead>\n",
       "  <tbody>\n",
       "    <tr>\n",
       "      <th>0</th>\n",
       "      <td>5</td>\n",
       "      <td>456</td>\n",
       "    </tr>\n",
       "    <tr>\n",
       "      <th>1</th>\n",
       "      <td>5</td>\n",
       "      <td>3527</td>\n",
       "    </tr>\n",
       "    <tr>\n",
       "      <th>2</th>\n",
       "      <td>5</td>\n",
       "      <td>4626</td>\n",
       "    </tr>\n",
       "    <tr>\n",
       "      <th>3</th>\n",
       "      <td>5</td>\n",
       "      <td>7756</td>\n",
       "    </tr>\n",
       "    <tr>\n",
       "      <th>4</th>\n",
       "      <td>5</td>\n",
       "      <td>12597</td>\n",
       "    </tr>\n",
       "    <tr>\n",
       "      <th>...</th>\n",
       "      <td>...</td>\n",
       "      <td>...</td>\n",
       "    </tr>\n",
       "    <tr>\n",
       "      <th>1417</th>\n",
       "      <td>36454</td>\n",
       "      <td>35760</td>\n",
       "    </tr>\n",
       "    <tr>\n",
       "      <th>1418</th>\n",
       "      <td>36459</td>\n",
       "      <td>7756</td>\n",
       "    </tr>\n",
       "    <tr>\n",
       "      <th>1420</th>\n",
       "      <td>36747</td>\n",
       "      <td>15381</td>\n",
       "    </tr>\n",
       "    <tr>\n",
       "      <th>1421</th>\n",
       "      <td>36966</td>\n",
       "      <td>8342</td>\n",
       "    </tr>\n",
       "    <tr>\n",
       "      <th>1422</th>\n",
       "      <td>36966</td>\n",
       "      <td>24802</td>\n",
       "    </tr>\n",
       "  </tbody>\n",
       "</table>\n",
       "<p>1217 rows × 2 columns</p>\n",
       "</div>"
      ],
      "text/plain": [
       "      TF ID  Target ID\n",
       "0         5        456\n",
       "1         5       3527\n",
       "2         5       4626\n",
       "3         5       7756\n",
       "4         5      12597\n",
       "...     ...        ...\n",
       "1417  36454      35760\n",
       "1418  36459       7756\n",
       "1420  36747      15381\n",
       "1421  36966       8342\n",
       "1422  36966      24802\n",
       "\n",
       "[1217 rows x 2 columns]"
      ]
     },
     "execution_count": 193,
     "metadata": {},
     "output_type": "execute_result"
    }
   ],
   "source": [
    "label_data"
   ]
  },
  {
   "cell_type": "code",
   "execution_count": 198,
   "id": "4b4b9178",
   "metadata": {},
   "outputs": [],
   "source": [
    "train_pos = train.loc[train.iloc[:,2] == 1]\n",
    "\n",
    "for i, row in train_pos.iterrows():\n",
    "    tf, tg, _ = row\n",
    "    combi = (tf, tg)\n",
    "    if label_data[(label_data[\"TF ID\"] == tf )& (label_data[\"Target ID\"] == tg)].shape[0] < 1:\n",
    "        print(\"false\")"
   ]
  },
  {
   "cell_type": "code",
   "execution_count": 188,
   "id": "59e5fe30",
   "metadata": {},
   "outputs": [],
   "source": [
    "exp = \"EXP/expression.tsv\"\n",
    "os.path.exists(exp)\n",
    "exp = pd.read_table(exp, index_col=0)"
   ]
  },
  {
   "cell_type": "code",
   "execution_count": null,
   "id": "4e71b3ca",
   "metadata": {},
   "outputs": [
    {
     "data": {
      "text/plain": [
       "Index(['DRX019488', 'DRX026439', 'DRX039919', 'DRX039923', 'DRX039924',\n",
       "       'DRX039925', 'DRX066823', 'DRX066824', 'DRX066825', 'DRX078166',\n",
       "       ...\n",
       "       'SRX7786231', 'SRX7868575', 'SRX7868576', 'SRX7868577', 'SRX7869407',\n",
       "       'SRX7869408', 'SRX7869409', 'SRX7869420', 'SRX7869421', 'SRX7869422'],\n",
       "      dtype='object', length=1343)"
      ]
     },
     "execution_count": 191,
     "metadata": {},
     "output_type": "execute_result"
    }
   ],
   "source": []
  },
  {
   "cell_type": "markdown",
   "id": "00d76268",
   "metadata": {},
   "source": [
    "## splitting the TF and TGs "
   ]
  },
  {
   "cell_type": "code",
   "execution_count": null,
   "id": "daa61482",
   "metadata": {},
   "outputs": [],
   "source": []
  }
 ],
 "metadata": {
  "kernelspec": {
   "display_name": "Python 3",
   "language": "python",
   "name": "python3"
  },
  "language_info": {
   "codemirror_mode": {
    "name": "ipython",
    "version": 3
   },
   "file_extension": ".py",
   "mimetype": "text/x-python",
   "name": "python",
   "nbconvert_exporter": "python",
   "pygments_lexer": "ipython3",
   "version": "3.11.6"
  }
 },
 "nbformat": 4,
 "nbformat_minor": 5
}
